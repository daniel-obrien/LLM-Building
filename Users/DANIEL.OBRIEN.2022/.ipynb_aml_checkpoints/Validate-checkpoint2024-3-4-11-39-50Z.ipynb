{
  "cells": [
    {
      "cell_type": "code",
      "source": [
        "import numpy as np\n",
        "import pandas as pd\n",
        "import matplotlib.pyplot as plt\n",
        "import string\n",
        "\n",
        "# Function to read raw text file\n",
        "def read_text(filename):\n",
        "    with open(filename, mode='rt', encoding='utf-8') as file:\n",
        "        return file.read()\n",
        "\n",
        "# Split a text into sentence pairs\n",
        "def to_sentence_pairs(text):\n",
        "    lines = text.strip().split('\\n')\n",
        "    sentence_pairs = [line.split('\\t') for line in lines]\n",
        "    return np.array(sentence_pairs)[:50000]  # Limit to first 50,000 pairs for efficiency\n",
        "\n",
        "# Remove punctuation and convert to lowercase\n",
        "def preprocess_text(sentence_pairs):\n",
        "    removal_trans = str.maketrans('', '', string.punctuation)\n",
        "    for i in range(len(sentence_pairs)):\n",
        "        sentence_pairs[i, 0] = sentence_pairs[i, 0].translate(removal_trans).lower()\n",
        "        sentence_pairs[i, 1] = sentence_pairs[i, 1].translate(removal_trans).lower()\n",
        "    return sentence_pairs\n",
        "\n",
        "# Calculate and plot sentence lengths\n",
        "def plot_sentence_lengths(sentence_pairs):\n",
        "    eng_lengths = [len(sentence.split()) for sentence in sentence_pairs[:, 0]]\n",
        "    other_lengths = [len(sentence.split()) for sentence in sentence_pairs[:, 1]]\n",
        "    length_df = pd.DataFrame({'ENG': eng_lengths, 'TR': other_lengths})\n",
        "    length_df.hist(bins=30)\n",
        "    plt.show()\n",
        "\n",
        "# Main execution\n",
        "data = read_text('/home/azureuser/cloudfiles/code/Users/DANIEL.OBRIEN.2022/TR2EN.txt')\n",
        "sentence_pairs = to_sentence_pairs(data)\n",
        "preprocessed_pairs = preprocess_text(sentence_pairs)\n",
        "plot_sentence_lengths(preprocessed_pairs)\n"
      ],
      "outputs": [
        {
          "output_type": "display_data",
          "data": {
            "text/plain": "<Figure size 640x480 with 2 Axes>",
            "image/png": "[encoded data removed]"
          },
          "metadata": {}
        }
      ],
      "execution_count": 2,
      "metadata": {
        "gather": {
          "logged": 1712224316108
        }
      }
    },
    {
      "cell_type": "code",
      "source": [
        "import string\n",
        "import re\n",
        "from numpy import array, argmax, random, take\n",
        "import pandas as pd\n",
        "from keras.models import Sequential\n",
        "from keras.layers import Dense, LSTM, Embedding, RepeatVector\n",
        "from keras.preprocessing.text import Tokenizer\n",
        "from keras.callbacks import ModelCheckpoint\n",
        "from keras_preprocessing.sequence import pad_sequences\n",
        "from keras.models import load_model\n",
        "from keras import optimizers\n",
        "import matplotlib.pyplot as plt\n",
        "\n",
        "def tokenization(lines):\n",
        "    tokenizer = Tokenizer()\n",
        "    tokenizer.fit_on_texts(lines)\n",
        "    return tokenizer\n",
        "\n",
        "def encode_sequences(tokenizer, length, lines):\n",
        "    seq = tokenizer.texts_to_sequences(lines)\n",
        "    # pad sequences with 0 values\n",
        "    seq = pad_sequences(seq, maxlen=length, padding='post')\n",
        "    return seq\n",
        "\n",
        "eng_tokenizer = tokenization(sentence_pairs[:, 0])  # English sentences\n",
        "eng_vocab_size = len(eng_tokenizer.word_index) + 1\n",
        "eng_length = 8\n",
        "\n",
        "tr_tokenizer = tokenization(sentence_pairs[:, 1])  # Turkish sentences\n",
        "tr_vocab_size = len(tr_tokenizer.word_index) + 1\n",
        "tr_length = 8\n",
        "\n",
        "# Example outputs\n",
        "print('English Vocabulary Size:', eng_vocab_size)\n",
        "print('Turkish Vocabulary Size:', tr_vocab_size)\n"
      ],
      "outputs": [
        {
          "output_type": "stream",
          "name": "stderr",
          "text": "2024-04-04 09:52:01.155630: I tensorflow/core/platform/cpu_feature_guard.cc:193] This TensorFlow binary is optimized with oneAPI Deep Neural Network Library (oneDNN) to use the following CPU instructions in performance-critical operations:  AVX2 AVX512F FMA\nTo enable them in other operations, rebuild TensorFlow with the appropriate compiler flags.\n2024-04-04 09:52:04.241083: W tensorflow/compiler/xla/stream_executor/platform/default/dso_loader.cc:64] Could not load dynamic library 'libcudart.so.11.0'; dlerror: libcudart.so.11.0: cannot open shared object file: No such file or directory\n2024-04-04 09:52:04.241106: I tensorflow/compiler/xla/stream_executor/cuda/cudart_stub.cc:29] Ignore above cudart dlerror if you do not have a GPU set up on your machine.\n2024-04-04 09:52:09.685019: W tensorflow/compiler/xla/stream_executor/platform/default/dso_loader.cc:64] Could not load dynamic library 'libnvinfer.so.7'; dlerror: libnvinfer.so.7: cannot open shared object file: No such file or directory\n2024-04-04 09:52:09.685206: W tensorflow/compiler/xla/stream_executor/platform/default/dso_loader.cc:64] Could not load dynamic library 'libnvinfer_plugin.so.7'; dlerror: libnvinfer_plugin.so.7: cannot open shared object file: No such file or directory\n2024-04-04 09:52:09.685243: W tensorflow/compiler/tf2tensorrt/utils/py_utils.cc:38] TF-TRT Warning: Cannot dlopen some TensorRT libraries. If you would like to use Nvidia GPU with TensorRT, please make sure the missing libraries mentioned above are installed properly.\n"
        },
        {
          "output_type": "stream",
          "name": "stdout",
          "text": "English Vocabulary Size: 6623\nTurkish Vocabulary Size: 18445\n"
        }
      ],
      "execution_count": 3,
      "metadata": {
        "jupyter": {
          "source_hidden": false,
          "outputs_hidden": false
        },
        "nteract": {
          "transient": {
            "deleting": false
          }
        },
        "gather": {
          "logged": 1712224335320
        }
      }
    },
    {
      "cell_type": "code",
      "source": [
        "from sklearn.model_selection import train_test_split\n",
        "\n",
        "# split data into train and test set\n",
        "train, test = train_test_split(sentence_pairs, test_size=0.2, random_state = 12)"
      ],
      "outputs": [],
      "execution_count": 4,
      "metadata": {
        "jupyter": {
          "source_hidden": false,
          "outputs_hidden": false
        },
        "nteract": {
          "transient": {
            "deleting": false
          }
        },
        "gather": {
          "logged": 1712224346727
        }
      }
    },
    {
      "cell_type": "code",
      "source": [
        "# prepare training data\n",
        "trainX = encode_sequences(tr_tokenizer, tr_length, train[:, 1])\n",
        "trainY = encode_sequences(eng_tokenizer, eng_length, train[:, 0])\n",
        "\n",
        "# prepare validation data\n",
        "testX = encode_sequences(tr_tokenizer, tr_length, test[:, 1])\n",
        "testY = encode_sequences(eng_tokenizer, eng_length, test[:, 0])"
      ],
      "outputs": [],
      "execution_count": 5,
      "metadata": {
        "jupyter": {
          "source_hidden": false,
          "outputs_hidden": false
        },
        "nteract": {
          "transient": {
            "deleting": false
          }
        },
        "gather": {
          "logged": 1712224349557
        }
      }
    },
    {
      "cell_type": "code",
      "source": [
        "import os\n",
        "os.environ['CUDA_VISIBLE_DEVICES'] = \"0\"\n",
        "\n",
        "# build NMT model\n",
        "def define_model(in_vocab,out_vocab, in_timesteps,out_timesteps,units):\n",
        "    model = Sequential()\n",
        "    model.add(Embedding(in_vocab, units, input_length=in_timesteps, mask_zero=True))\n",
        "    model.add(LSTM(units))\n",
        "    model.add(RepeatVector(out_timesteps))\n",
        "    model.add(LSTM(units, return_sequences=True))\n",
        "    model.add(Dense(out_vocab, activation='softmax'))\n",
        "    return model\n",
        "# model compilation\n",
        "model = define_model(tr_vocab_size, eng_vocab_size, tr_length, eng_length, 512)\n",
        "rms = optimizers.RMSprop(learning_rate=0.001)\n",
        "model.compile(optimizer=rms, loss='sparse_categorical_crossentropy')"
      ],
      "outputs": [],
      "execution_count": 7,
      "metadata": {
        "jupyter": {
          "source_hidden": false,
          "outputs_hidden": false
        },
        "nteract": {
          "transient": {
            "deleting": false
          }
        },
        "gather": {
          "logged": 1712224402853
        }
      }
    },
    {
      "cell_type": "code",
      "source": [
        "filename = 'model.h1.24_jan_19'\n",
        "checkpoint = ModelCheckpoint(filename, monitor='val_loss', verbose=1, save_best_only=True, mode='min')\n",
        "\n",
        "# train model\n",
        "history = model.fit(trainX, trainY.reshape(trainY.shape[0], trainY.shape[1], 1),\n",
        "                    epochs=5, batch_size=512, validation_split = 0.2,callbacks=[checkpoint], \n",
        "                    verbose=1)"
      ],
      "outputs": [
        {
          "output_type": "stream",
          "name": "stdout",
          "text": "Epoch 1/5\n63/63 [==============================] - ETA: 0s - loss: 3.3481\b\b\b\b\b\b\b\b\b\b\b\b\b\b\b\b\b\b\b\b\b\b\b\b\b\b\b\b\b\b\b\b\b\b\b\b\b\b\b\b\b\b\b\b\b\b\b\b\b\b\b\b\b\b\b\b\b\b\b\b\b\b\b\b\b\b\b\nEpoch 1: val_loss improved from inf to 2.70262, saving model to model.h1.24_jan_19\nINFO:tensorflow:Assets written to: model.h1.24_jan_19/assets\n63/63 [==============================] - 102s 2s/step - loss: 3.3481 - val_loss: 2.7026\nEpoch 2/5\n63/63 [==============================] - ETA: 0s - loss: 2.6197\b\b\b\b\b\b\b\b\b\b\b\b\b\b\b\b\b\b\b\b\b\b\b\b\b\b\b\b\b\b\b\b\b\b\b\b\b\b\b\b\b\b\b\b\b\b\b\b\b\b\b\b\b\b\b\b\b\b\b\b\b\b\b\b\b\b\b\nEpoch 2: val_loss improved from 2.70262 to 2.58958, saving model to model.h1.24_jan_19\nINFO:tensorflow:Assets written to: model.h1.24_jan_19/assets\n63/63 [==============================] - 97s 2s/step - loss: 2.6197 - val_loss: 2.5896\nEpoch 3/5\n63/63 [==============================] - ETA: 0s - loss: 2.4534\b\b\b\b\b\b\b\b\b\b\b\b\b\b\b\b\b\b\b\b\b\b\b\b\b\b\b\b\b\b\b\b\b\b\b\b\b\b\b\b\b\b\b\b\b\b\b\b\b\b\b\b\b\b\b\b\b\b\b\b\b\b\b\b\b\b\b\nEpoch 3: val_loss improved from 2.58958 to 2.45000, saving model to model.h1.24_jan_19\nINFO:tensorflow:Assets written to: model.h1.24_jan_19/assets\n63/63 [==============================] - 97s 2s/step - loss: 2.4534 - val_loss: 2.4500\nEpoch 4/5\n63/63 [==============================] - ETA: 0s - loss: 2.2782\b\b\b\b\b\b\b\b\b\b\b\b\b\b\b\b\b\b\b\b\b\b\b\b\b\b\b\b\b\b\b\b\b\b\b\b\b\b\b\b\b\b\b\b\b\b\b\b\b\b\b\b\b\b\b\b\b\b\b\b\b\b\b\b\b\b\b\nEpoch 4: val_loss improved from 2.45000 to 2.29931, saving model to model.h1.24_jan_19\nINFO:tensorflow:Assets written to: model.h1.24_jan_19/assets\n63/63 [==============================] - 97s 2s/step - loss: 2.2782 - val_loss: 2.2993\nEpoch 5/5\n63/63 [==============================] - ETA: 0s - loss: 2.1117\b\b\b\b\b\b\b\b\b\b\b\b\b\b\b\b\b\b\b\b\b\b\b\b\b\b\b\b\b\b\b\b\b\b\b\b\b\b\b\b\b\b\b\b\b\b\b\b\b\b\b\b\b\b\b\b\b\b\b\b\b\b\b\b\b\b\b\nEpoch 5: val_loss improved from 2.29931 to 2.17965, saving model to model.h1.24_jan_19\nINFO:tensorflow:Assets written to: model.h1.24_jan_19/assets\n63/63 [==============================] - 97s 2s/step - loss: 2.1117 - val_loss: 2.1797\n"
        },
        {
          "output_type": "stream",
          "name": "stderr",
          "text": "WARNING:absl:Found untraced functions such as lstm_cell_2_layer_call_fn, lstm_cell_2_layer_call_and_return_conditional_losses, lstm_cell_3_layer_call_fn, lstm_cell_3_layer_call_and_return_conditional_losses while saving (showing 4 of 4). These functions will not be directly callable after loading.\nINFO:tensorflow:Assets written to: model.h1.24_jan_19/assets\nWARNING:absl:Found untraced functions such as lstm_cell_2_layer_call_fn, lstm_cell_2_layer_call_and_return_conditional_losses, lstm_cell_3_layer_call_fn, lstm_cell_3_layer_call_and_return_conditional_losses while saving (showing 4 of 4). These functions will not be directly callable after loading.\nINFO:tensorflow:Assets written to: model.h1.24_jan_19/assets\nWARNING:absl:Found untraced functions such as lstm_cell_2_layer_call_fn, lstm_cell_2_layer_call_and_return_conditional_losses, lstm_cell_3_layer_call_fn, lstm_cell_3_layer_call_and_return_conditional_losses while saving (showing 4 of 4). These functions will not be directly callable after loading.\nINFO:tensorflow:Assets written to: model.h1.24_jan_19/assets\nWARNING:absl:Found untraced functions such as lstm_cell_2_layer_call_fn, lstm_cell_2_layer_call_and_return_conditional_losses, lstm_cell_3_layer_call_fn, lstm_cell_3_layer_call_and_return_conditional_losses while saving (showing 4 of 4). These functions will not be directly callable after loading.\nINFO:tensorflow:Assets written to: model.h1.24_jan_19/assets\nWARNING:absl:Found untraced functions such as lstm_cell_2_layer_call_fn, lstm_cell_2_layer_call_and_return_conditional_losses, lstm_cell_3_layer_call_fn, lstm_cell_3_layer_call_and_return_conditional_losses while saving (showing 4 of 4). These functions will not be directly callable after loading.\nINFO:tensorflow:Assets written to: model.h1.24_jan_19/assets\n"
        }
      ],
      "execution_count": 8,
      "metadata": {
        "jupyter": {
          "source_hidden": false,
          "outputs_hidden": false
        },
        "nteract": {
          "transient": {
            "deleting": false
          }
        },
        "gather": {
          "logged": 1712224915835
        },
        "collapsed": true
      }
    },
    {
      "cell_type": "code",
      "source": [
        "plt.plot(history.history['loss'])\n",
        "plt.plot(history.history['val_loss'])\n",
        "plt.legend(['train','validation'])\n",
        "plt.show()"
      ],
      "outputs": [
        {
          "output_type": "display_data",
          "data": {
            "text/plain": "<Figure size 640x480 with 1 Axes>",
            "image/png": "[encoded data removed]"
          },
          "metadata": {}
        }
      ],
      "execution_count": 9,
      "metadata": {
        "jupyter": {
          "source_hidden": false,
          "outputs_hidden": false
        },
        "nteract": {
          "transient": {
            "deleting": false
          }
        },
        "gather": {
          "logged": 1712225021417
        }
      }
    },
    {
      "cell_type": "code",
      "source": [
        "model = load_model('model.h1.24_jan_19')\n",
        "preds = np.argmax(model.predict(testX), axis=1)"
      ],
      "outputs": [
        {
          "output_type": "stream",
          "name": "stderr",
          "text": "2024-04-04 10:03:58.264352: W tensorflow/core/common_runtime/graph_constructor.cc:805] Node 'cond/while' has 13 outputs but the _output_shapes attribute specifies shapes for 46 outputs. Output shapes may be inaccurate.\n2024-04-04 10:03:58.554289: W tensorflow/core/common_runtime/graph_constructor.cc:805] Node 'cond' has 5 outputs but the _output_shapes attribute specifies shapes for 46 outputs. Output shapes may be inaccurate.\n2024-04-04 10:03:59.460259: W tensorflow/core/common_runtime/graph_constructor.cc:805] Node 'cond/while' has 13 outputs but the _output_shapes attribute specifies shapes for 46 outputs. Output shapes may be inaccurate.\n2024-04-04 10:03:59.483575: W tensorflow/core/common_runtime/graph_constructor.cc:805] Node 'cond/while' has 13 outputs but the _output_shapes attribute specifies shapes for 46 outputs. Output shapes may be inaccurate.\n2024-04-04 10:03:59.784503: W tensorflow/core/common_runtime/graph_constructor.cc:805] Node 'cond/while' has 13 outputs but the _output_shapes attribute specifies shapes for 46 outputs. Output shapes may be inaccurate.\n2024-04-04 10:04:00.326064: W tensorflow/core/common_runtime/graph_constructor.cc:805] Node 'cond/while' has 13 outputs but the _output_shapes attribute specifies shapes for 46 outputs. Output shapes may be inaccurate.\n2024-04-04 10:04:00.337563: W tensorflow/core/common_runtime/graph_constructor.cc:805] Node 'cond' has 5 outputs but the _output_shapes attribute specifies shapes for 46 outputs. Output shapes may be inaccurate.\n2024-04-04 10:04:00.358990: W tensorflow/core/common_runtime/graph_constructor.cc:805] Node 'cond' has 5 outputs but the _output_shapes attribute specifies shapes for 46 outputs. Output shapes may be inaccurate.\n2024-04-04 10:04:00.767754: W tensorflow/core/common_runtime/graph_constructor.cc:805] Node 'cond/while' has 13 outputs but the _output_shapes attribute specifies shapes for 46 outputs. Output shapes may be inaccurate.\n2024-04-04 10:04:00.779977: W tensorflow/core/common_runtime/graph_constructor.cc:805] Node 'cond' has 5 outputs but the _output_shapes attribute specifies shapes for 46 outputs. Output shapes may be inaccurate.\n2024-04-04 10:04:00.958428: W tensorflow/core/common_runtime/graph_constructor.cc:805] Node 'cond/while' has 13 outputs but the _output_shapes attribute specifies shapes for 46 outputs. Output shapes may be inaccurate.\n2024-04-04 10:04:00.969540: W tensorflow/core/common_runtime/graph_constructor.cc:805] Node 'cond' has 5 outputs but the _output_shapes attribute specifies shapes for 46 outputs. Output shapes may be inaccurate.\n2024-04-04 10:04:00.991848: W tensorflow/core/common_runtime/graph_constructor.cc:805] Node 'cond' has 5 outputs but the _output_shapes attribute specifies shapes for 46 outputs. Output shapes may be inaccurate.\n2024-04-04 10:04:01.332649: W tensorflow/core/common_runtime/graph_constructor.cc:805] Node 'cond' has 5 outputs but the _output_shapes attribute specifies shapes for 46 outputs. Output shapes may be inaccurate.\n2024-04-04 10:04:23.857525: W tensorflow/tsl/framework/cpu_allocator_impl.cc:82] Allocation of 2119360000 exceeds 10% of free system memory.\n"
        },
        {
          "output_type": "stream",
          "name": "stdout",
          "text": "313/313 [==============================] - 15s 45ms/step\b\b\b\b\b\b\b\b\b\b\b\b\b\b\b\b\b\b\b\b\b\b\b\b\b\b\b\b\b\b\b\b\b\b\b\b\b\b\b\b\b\b\b\b\b\b\b\b\n"
        }
      ],
      "execution_count": 10,
      "metadata": {
        "jupyter": {
          "source_hidden": false,
          "outputs_hidden": true
        },
        "nteract": {
          "transient": {
            "deleting": false
          }
        },
        "gather": {
          "logged": 1712225068793
        }
      }
    },
    {
      "cell_type": "code",
      "source": [
        "import pandas as pd\n",
        "\n",
        "def get_word(n, tokenizer):\n",
        "    return tokenizer.index_word.get(n, '')\n",
        "\n",
        "preds_text = []\n",
        "for i in preds:\n",
        "    temp = [get_word(token, eng_tokenizer) for token in i if token != 0]  # assuming 0 is used for padding\n",
        "    preds_text.append(' '.join(temp).strip())\n",
        "\n",
        "# Assuming `test` variable contains the actual translations for comparison\n",
        "# Ensure `test` is appropriately defined; for example, it might be your test set's English sentences.\n",
        "actual_texts = [' '.join([get_word(token, eng_tokenizer) for token in sent if token != 0]).strip() for sent in testX]\n",
        "\n",
        "pred_df = pd.DataFrame({'actual': actual_texts, 'predicted': preds_text})\n",
        "\n",
        "# Print 15 rows to inspect the results\n",
        "print(pred_df.sample(15))"
      ],
      "outputs": [
        {
          "output_type": "stream",
          "name": "stdout",
          "text": "                  actual                                          predicted\n3581          out online  im is tom i is tom i i is i i tom i i tom tom ...\n9575                      im tom i tom i i i i tom tom tom tom i tom i i...\n2034               you i  im tom tom tom tom tom tom i tom tom tom tom i...\n7027    going took could  im i tom tom i tom i i i i i i tom tom tom tom...\n8003      that will easy  im is is i is tom i tom i i i i i tom tom tom ...\n9168      text wine look  im i tom tom tom tom tom tom tom tom tom tom t...\n3269     accurate castle  im i tom tom i i tom tom tom tom tom tom tom i...\n1376                 tom  im tom i tom i i i i tom tom tom tom tom i i i...\n2310  my money i  happen  im is tom i you tom is i is is is i is tom tom...\n3021    come help cheats  im tom tom tom tom i tom tom tom tom tom tom t...\n4299     very owner lets  im tom i tom tom i i i tom i tom tom tom i tom...\n4832    frightened tempt  im tom i i tom i i is i i i i tom tom tom tom ...\n6906         the pumpkin  im tom i tom tom tom i tom tom tom tom tom tom...\n9010         is have now  im tom i tom i i i i tom tom tom tom tom tom i...\n9371             bipolar  im tom i tom i i i i tom tom tom tom i tom i i...\n"
        }
      ],
      "execution_count": 11,
      "metadata": {
        "jupyter": {
          "source_hidden": false,
          "outputs_hidden": false
        },
        "nteract": {
          "transient": {
            "deleting": false
          }
        },
        "gather": {
          "logged": 1712225166721
        }
      }
    }
  ],
  "metadata": {
    "kernelspec": {
      "name": "python310-sdkv2",
      "language": "python",
      "display_name": "Python 3.10 - SDK v2"
    },
    "language_info": {
      "name": "python",
      "version": "3.10.11",
      "mimetype": "text/x-python",
      "codemirror_mode": {
        "name": "ipython",
        "version": 3
      },
      "pygments_lexer": "ipython3",
      "nbconvert_exporter": "python",
      "file_extension": ".py"
    },
    "microsoft": {
      "ms_spell_check": {
        "ms_spell_check_language": "en"
      },
      "host": {
        "AzureML": {
          "notebookHasBeenCompleted": true
        }
      }
    },
    "kernel_info": {
      "name": "python310-sdkv2"
    },
    "nteract": {
      "version": "nteract-front-end@1.0.0"
    }
  },
  "nbformat": 4,
  "nbformat_minor": 2
}