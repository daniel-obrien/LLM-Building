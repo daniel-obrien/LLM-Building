{
  "cells": [
    {
      "cell_type": "code",
      "source": [
        "# Levenshtein distance method\n",
        "\n",
        "import numpy as np\n",
        "\n",
        "# Example data with correct translations\n",
        "test_data = [\n",
        "    (\"Who's the boss? \", \" Patron kim?\"),\n",
        "    (\"Who's this guy? \", \" Bu adam kim?\"),\n",
        "    (\"Why do you lie? \", \" Neden yalan söylüyorsun?\"),\n",
        "    (\"Why is it dark? \", \" Neden karanlık?\"),\n",
        "]\n",
        "\n",
        "# Example translated pairs (mix of exact matches, close matches, and incorrect translations)\n",
        "translated_pairs = [\n",
        "    (\"Who's the boss?\", \"Patron kim?\"),  # Exact match\n",
        "    (\"Who's this guy?\", \"Bu adam kim.\"),  # Close match (punctuation difference)\n",
        "    (\"Why do you lie?\", \"Neden yalan söylersin?\"),  # Semantically close, but not exact\n",
        "    (\"Why is it dark?\", \"Karanlık neden var?\"),  # Somewhat semantically related, but different structure\n",
        "    (\"This is not in test data\", \"Test verisinde bu yok\"),  # Not in test data\n",
        "]\n",
        "\n",
        "# Validate translations with the enhanced method\n",
        "results = validate(translated_pairs, test_data)\n",
        "\n",
        "# Print results\n",
        "for eng, tur, score in results:\n",
        "    print(f\"EN: {eng} | TR: {tur} | Score: {score:.2f}\")\n",
        "\n",
        "\n",
        "def levenshtein_distance(s1, s2):\n",
        "\n",
        "    if s1 == s2:\n",
        "        return 1\n",
        "    elif len(s1) == 0 or len(s2) == 0:\n",
        "        return 0\n",
        "    else:\n",
        "        v0 = np.zeros(len(s2) + 1)\n",
        "        v1 = np.zeros(len(s2) + 1)\n",
        "        \n",
        "        for i in range(len(v0)):\n",
        "            v0[i] = i\n",
        "            \n",
        "        for i in range(len(s1)):\n",
        "            v1[0] = i + 1\n",
        "            \n",
        "            for j in range(len(s2)):\n",
        "                cost = 0 if s1[i] == s2[j] else 1\n",
        "                v1[j + 1] = min(v1[j] + 1, v0[j + 1] + 1, v0[j] + cost)\n",
        "            \n",
        "            v0, v1 = v1, v0\n",
        "        \n",
        "        return 1 - v0[len(s2)] / max(len(s1), len(s2))\n",
        "\n",
        "def validate(translated_pairs, test_data):\n",
        "\n",
        "    results = []\n",
        "    \n",
        "    test_data_dict = {eng.strip(): tur.strip() for eng, tur in test_data}\n",
        "\n",
        "    for eng, tur in translated_pairs:\n",
        "        eng = eng.strip() \n",
        "        if eng in test_data_dict:\n",
        "            score = levenshtein_distance(tur, test_data_dict[eng])\n",
        "            results.append((eng, tur, score))\n",
        "        else:\n",
        "            results.append((eng, tur, 0)\n",
        "\n",
        "    return results\n",
        "    "
      ],
      "outputs": [],
      "execution_count": null,
      "metadata": {}
    }
  ],
  "metadata": {
    "kernelspec": {
      "display_name": "Python 3.10 - SDK v2",
      "language": "python",
      "name": "python310-sdkv2"
    },
    "language_info": {
      "codemirror_mode": {
        "name": "ipython",
        "version": 3
      },
      "file_extension": ".py",
      "mimetype": "text/x-python",
      "name": "python",
      "nbconvert_exporter": "python",
      "pygments_lexer": "ipython3",
      "version": "3.10.6"
    },
    "microsoft": {
      "ms_spell_check": {
        "ms_spell_check_language": "en"
      }
    },
    "nteract": {
      "version": "nteract-front-end@1.0.0"
    }
  },
  "nbformat": 4,
  "nbformat_minor": 2
}