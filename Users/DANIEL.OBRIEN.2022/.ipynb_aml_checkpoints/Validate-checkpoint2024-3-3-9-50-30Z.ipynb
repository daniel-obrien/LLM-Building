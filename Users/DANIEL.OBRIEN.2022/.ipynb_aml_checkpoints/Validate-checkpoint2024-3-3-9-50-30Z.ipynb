{
  "cells": [
    {
      "cell_type": "code",
      "source": [
        "import numpy as np\n",
        "import pandas as pd\n",
        "import matplotlib.pyplot as plt\n",
        "import string\n",
        "\n",
        "# Function to read raw text file\n",
        "def read_text(filename):\n",
        "    with open(filename, mode='rt', encoding='utf-8') as file:\n",
        "        return file.read()\n",
        "\n",
        "# Split a text into sentence pairs\n",
        "def to_sentence_pairs(text):\n",
        "    lines = text.strip().split('\\n')\n",
        "    sentence_pairs = [line.split('\\t') for line in lines]\n",
        "    return np.array(sentence_pairs)[:50000]  # Limit to first 50,000 pairs for efficiency\n",
        "\n",
        "# Remove punctuation and convert to lowercase\n",
        "def preprocess_text(sentence_pairs):\n",
        "    removal_trans = str.maketrans('', '', string.punctuation)\n",
        "    for i in range(len(sentence_pairs)):\n",
        "        sentence_pairs[i, 0] = sentence_pairs[i, 0].translate(removal_trans).lower()\n",
        "        sentence_pairs[i, 1] = sentence_pairs[i, 1].translate(removal_trans).lower()\n",
        "    return sentence_pairs\n",
        "\n",
        "# Calculate and plot sentence lengths\n",
        "def plot_sentence_lengths(sentence_pairs):\n",
        "    eng_lengths = [len(sentence.split()) for sentence in sentence_pairs[:, 0]]\n",
        "    other_lengths = [len(sentence.split()) for sentence in sentence_pairs[:, 1]]\n",
        "    length_df = pd.DataFrame({'ENG': eng_lengths, 'TR': other_lengths})\n",
        "    length_df.hist(bins=30)\n",
        "    plt.show()\n",
        "\n",
        "# Main execution\n",
        "data = read_text('/home/azureuser/cloudfiles/code/Users/DANIEL.OBRIEN.2022/TR2EN.txt')\n",
        "sentence_pairs = to_sentence_pairs(data)\n",
        "preprocessed_pairs = preprocess_text(sentence_pairs)\n",
        "plot_sentence_lengths(preprocessed_pairs)\n"
      ],
      "outputs": [
        {
          "output_type": "display_data",
          "data": {
            "text/plain": "<Figure size 640x480 with 2 Axes>",
            "image/png": "[encoded data removed]"
          },
          "metadata": {}
        }
      ],
      "execution_count": 1,
      "metadata": {
        "gather": {
          "logged": 1712133956747
        }
      }
    },
    {
      "cell_type": "code",
      "source": [
        "import string\n",
        "import re\n",
        "from numpy import array, argmax, random, take\n",
        "import pandas as pd\n",
        "from keras.models import Sequential\n",
        "from keras.layers import Dense, LSTM, Embedding, RepeatVector\n",
        "from keras.preprocessing.text import Tokenizer\n",
        "from keras.callbacks import ModelCheckpoint\n",
        "from keras_preprocessing.sequence import pad_sequences\n",
        "from keras.models import load_model\n",
        "from keras import optimizers\n",
        "import matplotlib.pyplot as plt\n",
        "\n",
        "def tokenization(lines):\n",
        "    tokenizer = Tokenizer()\n",
        "    tokenizer.fit_on_texts(lines)\n",
        "    return tokenizer\n",
        "\n",
        "def encode_sequences(tokenizer, length, lines):\n",
        "    seq = tokenizer.texts_to_sequences(lines)\n",
        "    # pad sequences with 0 values\n",
        "    seq = pad_sequences(seq, maxlen=length, padding='post')\n",
        "    return seq\n",
        "\n",
        "eng_tokenizer = tokenization(sentence_pairs[:, 0])  # English sentences\n",
        "eng_vocab_size = len(eng_tokenizer.word_index) + 1\n",
        "eng_length = 8\n",
        "\n",
        "tr_tokenizer = tokenization(sentence_pairs[:, 1])  # Turkish sentences\n",
        "tr_vocab_size = len(tr_tokenizer.word_index) + 1\n",
        "tr_length = 8\n",
        "\n",
        "# Example outputs\n",
        "print('English Vocabulary Size:', eng_vocab_size)\n",
        "print('Turkish Vocabulary Size:', tr_vocab_size)\n"
      ],
      "outputs": [
        {
          "output_type": "stream",
          "name": "stdout",
          "text": "English Vocabulary Size: 6623\nTurkish Vocabulary Size: 18445\n"
        }
      ],
      "execution_count": 9,
      "metadata": {
        "jupyter": {
          "source_hidden": false,
          "outputs_hidden": false
        },
        "nteract": {
          "transient": {
            "deleting": false
          }
        },
        "gather": {
          "logged": 1712134839044
        }
      }
    },
    {
      "cell_type": "code",
      "source": [
        "from sklearn.model_selection import train_test_split\n",
        "\n",
        "# split data into train and test set\n",
        "train, test = train_test_split(sentence_pairs, test_size=0.2, random_state = 12)"
      ],
      "outputs": [],
      "execution_count": 10,
      "metadata": {
        "jupyter": {
          "source_hidden": false,
          "outputs_hidden": false
        },
        "nteract": {
          "transient": {
            "deleting": false
          }
        },
        "gather": {
          "logged": 1712136064486
        }
      }
    },
    {
      "cell_type": "code",
      "source": [
        "# prepare training data\n",
        "trainX = encode_sequences(tr_tokenizer, tr_length, train[:, 1])\n",
        "trainY = encode_sequences(eng_tokenizer, eng_length, train[:, 0])\n",
        "\n",
        "# prepare validation data\n",
        "testX = encode_sequences(tr_tokenizer, tr_length, test[:, 1])\n",
        "testY = encode_sequences(eng_tokenizer, eng_length, test[:, 0])"
      ],
      "outputs": [],
      "execution_count": 11,
      "metadata": {
        "jupyter": {
          "source_hidden": false,
          "outputs_hidden": false
        },
        "nteract": {
          "transient": {
            "deleting": false
          }
        },
        "gather": {
          "logged": 1712136139016
        }
      }
    },
    {
      "cell_type": "code",
      "source": [
        "import os\n",
        "os.environ['CUDA_VISIBLE_DEVICES'] = \"0\"\n",
        "\n",
        "# build NMT model\n",
        "def define_model(in_vocab,out_vocab, in_timesteps,out_timesteps,units):\n",
        "    model = Sequential()\n",
        "    model.add(Embedding(in_vocab, units, input_length=in_timesteps, mask_zero=True))\n",
        "    model.add(LSTM(units))\n",
        "    model.add(RepeatVector(out_timesteps))\n",
        "    model.add(LSTM(units, return_sequences=True))\n",
        "    model.add(Dense(out_vocab, activation='softmax'))\n",
        "    return model\n",
        "# model compilation\n",
        "model = define_model(tr_vocab_size, eng_vocab_size, tr_length, eng_length, 512)\n",
        "rms = optimizers.RMSprop(lr=0.001)\n",
        "model.compile(optimizer=rms, loss='sparse_categorical_crossentropy')"
      ],
      "outputs": [],
      "execution_count": 16,
      "metadata": {
        "jupyter": {
          "source_hidden": false,
          "outputs_hidden": false
        },
        "nteract": {
          "transient": {
            "deleting": false
          }
        },
        "gather": {
          "logged": 1712137280463
        }
      }
    },
    {
      "cell_type": "code",
      "source": [
        "filename = 'model.h1.24_jan_19'\n",
        "checkpoint = ModelCheckpoint(filename, monitor='val_loss', verbose=1, save_best_only=True, mode='min')\n",
        "\n",
        "# train model\n",
        "history = model.fit(trainX, trainY.reshape(trainY.shape[0], trainY.shape[1], 1),\n",
        "                    epochs=30, batch_size=512, validation_split = 0.2,callbacks=[checkpoint], \n",
        "                    verbose=1)"
      ],
      "outputs": [
        {
          "output_type": "stream",
          "name": "stdout",
          "text": "Epoch 1/30\n63/63 [==============================] - ETA: 0s - loss: 3.3477\b\b\b\b\b\b\b\b\b\b\b\b\b\b\b\b\b\b\b\b\b\b\b\b\b\b\b\b\b\b\b\b\b\b\b\b\b\b\b\b\b\b\b\b\b\b\b\b\b\b\b\b\b\b\b\b\b\b\b\b\b\b\b\b\b\b\b\nEpoch 1: val_loss improved from inf to 2.71403, saving model to model.h1.24_jan_19\nINFO:tensorflow:Assets written to: model.h1.24_jan_19/assets\n63/63 [==============================] - 116s 2s/step - loss: 3.3477 - val_loss: 2.7140\nEpoch 2/30\n63/63 [==============================] - ETA: 0s - loss: 2.6155\b\b\b\b\b\b\b\b\b\b\b\b\b\b\b\b\b\b\b\b\b\b\b\b\b\b\b\b\b\b\b\b\b\b\b\b\b\b\b\b\b\b\b\b\b\b\b\b\b\b\b\b\b\b\b\b\b\b\b\b\b\b\b\b\b\b\b\nEpoch 2: val_loss improved from 2.71403 to 2.58555, saving model to model.h1.24_jan_19\nINFO:tensorflow:Assets written to: model.h1.24_jan_19/assets\n63/63 [==============================] - 108s 2s/step - loss: 2.6155 - val_loss: 2.5855\nEpoch 3/30\n63/63 [==============================] - ETA: 0s - loss: 2.4775\b\b\b\b\b\b\b\b\b\b\b\b\b\b\b\b\b\b\b\b\b\b\b\b\b\b\b\b\b\b\b\b\b\b\b\b\b\b\b\b\b\b\b\b\b\b\b\b\b\b\b\b\b\b\b\b\b\b\b\b\b\b\b\b\b\b\b\nEpoch 3: val_loss improved from 2.58555 to 2.45402, saving model to model.h1.24_jan_19\nINFO:tensorflow:Assets written to: model.h1.24_jan_19/assets\n63/63 [==============================] - 109s 2s/step - loss: 2.4775 - val_loss: 2.4540\nEpoch 4/30\n63/63 [==============================] - ETA: 0s - loss: 2.2948\b\b\b\b\b\b\b\b\b\b\b\b\b\b\b\b\b\b\b\b\b\b\b\b\b\b\b\b\b\b\b\b\b\b\b\b\b\b\b\b\b\b\b\b\b\b\b\b\b\b\b\b\b\b\b\b\b\b\b\b\b\b\b\b\b\b\b\nEpoch 4: val_loss improved from 2.45402 to 2.36581, saving model to model.h1.24_jan_19\nINFO:tensorflow:Assets written to: model.h1.24_jan_19/assets\n63/63 [==============================] - 109s 2s/step - loss: 2.2948 - val_loss: 2.3658\nEpoch 5/30\n63/63 [==============================] - ETA: 0s - loss: 2.1447\b\b\b\b\b\b\b\b\b\b\b\b\b\b\b\b\b\b\b\b\b\b\b\b\b\b\b\b\b\b\b\b\b\b\b\b\b\b\b\b\b\b\b\b\b\b\b\b\b\b\b\b\b\b\b\b\b\b\b\b\b\b\b\b\b\b\b\nEpoch 5: val_loss improved from 2.36581 to 2.22227, saving model to model.h1.24_jan_19\n"
        },
        {
          "output_type": "stream",
          "name": "stderr",
          "text": "WARNING:absl:Found untraced functions such as lstm_cell_4_layer_call_fn, lstm_cell_4_layer_call_and_return_conditional_losses, lstm_cell_5_layer_call_fn, lstm_cell_5_layer_call_and_return_conditional_losses while saving (showing 4 of 4). These functions will not be directly callable after loading.\nINFO:tensorflow:Assets written to: model.h1.24_jan_19/assets\nWARNING:absl:Found untraced functions such as lstm_cell_4_layer_call_fn, lstm_cell_4_layer_call_and_return_conditional_losses, lstm_cell_5_layer_call_fn, lstm_cell_5_layer_call_and_return_conditional_losses while saving (showing 4 of 4). These functions will not be directly callable after loading.\nINFO:tensorflow:Assets written to: model.h1.24_jan_19/assets\nWARNING:absl:Found untraced functions such as lstm_cell_4_layer_call_fn, lstm_cell_4_layer_call_and_return_conditional_losses, lstm_cell_5_layer_call_fn, lstm_cell_5_layer_call_and_return_conditional_losses while saving (showing 4 of 4). These functions will not be directly callable after loading.\nINFO:tensorflow:Assets written to: model.h1.24_jan_19/assets\nWARNING:absl:Found untraced functions such as lstm_cell_4_layer_call_fn, lstm_cell_4_layer_call_and_return_conditional_losses, lstm_cell_5_layer_call_fn, lstm_cell_5_layer_call_and_return_conditional_losses while saving (showing 4 of 4). These functions will not be directly callable after loading.\nINFO:tensorflow:Assets written to: model.h1.24_jan_19/assets\n"
        }
      ],
      "execution_count": 17,
      "metadata": {
        "jupyter": {
          "source_hidden": false,
          "outputs_hidden": false
        },
        "nteract": {
          "transient": {
            "deleting": false
          }
        },
        "gather": {
          "logged": 1712137267625
        }
      }
    },
    {
      "cell_type": "code",
      "source": [],
      "outputs": [],
      "execution_count": null,
      "metadata": {
        "jupyter": {
          "source_hidden": false,
          "outputs_hidden": false
        },
        "nteract": {
          "transient": {
            "deleting": false
          }
        }
      }
    }
  ],
  "metadata": {
    "kernelspec": {
      "name": "python310-sdkv2",
      "language": "python",
      "display_name": "Python 3.10 - SDK v2"
    },
    "language_info": {
      "name": "python",
      "version": "3.10.11",
      "mimetype": "text/x-python",
      "codemirror_mode": {
        "name": "ipython",
        "version": 3
      },
      "pygments_lexer": "ipython3",
      "nbconvert_exporter": "python",
      "file_extension": ".py"
    },
    "microsoft": {
      "ms_spell_check": {
        "ms_spell_check_language": "en"
      },
      "host": {
        "AzureML": {
          "notebookHasBeenCompleted": true
        }
      }
    },
    "kernel_info": {
      "name": "python310-sdkv2"
    },
    "nteract": {
      "version": "nteract-front-end@1.0.0"
    }
  },
  "nbformat": 4,
  "nbformat_minor": 2
}